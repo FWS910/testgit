{
 "cells": [
  {
   "cell_type": "code",
   "execution_count": 36,
   "metadata": {},
   "outputs": [],
   "source": [
    "from pyecharts.charts import Bar,Line\n",
    "from pyecharts import options as opts\n",
    "\n",
    "\n",
    "def overlap_bar_line(x_axis=None,\n",
    "                     yaxis1=None,yaxis1_label=None,\n",
    "                     yaxis2=None,yaxis2_label=None,\n",
    "                     yaxis3=None,yaxis3_label=None,\n",
    "                     y_axis_dw1='',\n",
    "                     y_axis_dw2='') -> Bar:\n",
    "    '''\n",
    "    该函数绘制，柱状图和折线图的组合图，并且是双y轴\n",
    "    \n",
    "    x_axis：表示横坐标值，格式要求：列表型\n",
    "    \n",
    "    yaxis1：表示第一个柱状图的纵坐标值，格式要求：列表型\n",
    "    \n",
    "    yaxis2：表示第二个柱状图的纵坐标值，格式要求：列表型\n",
    "    \n",
    "    yaxis3：表示折线图的纵坐标值(双坐标轴的另一轴依赖数据)，格式要求：列表型\n",
    "    \n",
    "    yaxis1_label：表示第一个柱状图的纵坐标表示的含义，格式要求：字符型\n",
    "    \n",
    "    yaxis2_label：表示第二个柱状图的纵坐标表示的含义，格式要求：字符型\n",
    "    \n",
    "    yaxis3_label：表示折线图的纵坐标表示的含义，格式要求：字符型\n",
    "    \n",
    "    y_axis_dw1：左边y轴数值单位，格式要求：字符型\n",
    "    \n",
    "    y_axis_dw2：右边边y轴数值单位，格式要求：字符型\n",
    "    \n",
    "    调用方式：\n",
    "    \n",
    "    from example.commons import Faker\n",
    "    \n",
    "    v1 = [1000, 980, 930, 650, 760, 810, 500, 800, 960, 960, 820, 770]\n",
    "    \n",
    "    v2 = [890, 810, 810, 820, 800, 770, 760, 740, 750, 760, 650, 760]\n",
    "\n",
    "    c = overlap_bar_line(x_axis=Faker.months,\n",
    "                     yaxis1=v1,yaxis1_label='蒸发量',\n",
    "                     yaxis3=Faker.days_values,yaxis3_label='平均气温',\n",
    "                     y_axis_dw1='ml',\n",
    "                     y_axis_dw2='℃')\n",
    "    c.render()\n",
    "    \n",
    "    '''\n",
    "    bar = (\n",
    "        Bar()\n",
    "        .add_xaxis(x_axis)\n",
    "        .add_yaxis(yaxis1_label, yaxis1)\n",
    "        .add_yaxis(yaxis2_label, yaxis2)\n",
    "        .extend_axis(\n",
    "            yaxis=opts.AxisOpts(\n",
    "                axislabel_opts=opts.LabelOpts(formatter=\"{value}\"+ y_axis_dw2), interval=5\n",
    "            )\n",
    "        )\n",
    "        .set_series_opts(label_opts=opts.LabelOpts(is_show=False))\n",
    "        .set_global_opts(\n",
    "            title_opts=opts.TitleOpts(title=\"Overlap-bar+line（双 Y 轴）\"),\n",
    "            yaxis_opts=opts.AxisOpts(\n",
    "                axislabel_opts=opts.LabelOpts(formatter=\"{value}\"+ y_axis_dw1)\n",
    "            ),\n",
    "        )\n",
    "    )\n",
    "\n",
    "    line = Line().add_xaxis(x_axis).add_yaxis(yaxis3_label, yaxis3, yaxis_index=1)\n",
    "    bar.overlap(line)\n",
    "    return bar"
   ]
  },
  {
   "cell_type": "code",
   "execution_count": 37,
   "metadata": {},
   "outputs": [
    {
     "data": {
      "text/plain": [
       "'E:\\\\pyecharts可视化\\\\render.html'"
      ]
     },
     "execution_count": 37,
     "metadata": {},
     "output_type": "execute_result"
    }
   ],
   "source": [
    "from example.commons import Faker\n",
    "    \n",
    "v1 = [1000, 980, 930, 650, 760, 810, 500, 800, 960, 960, 820, 770]\n",
    "    \n",
    "v2 = [890, 810, 810, 820, 800, 770, 760, 740, 750, 760, 650, 760]\n",
    "\n",
    "c = overlap_bar_line(x_axis=Faker.months,\n",
    "                     yaxis1=v1,yaxis1_label='蒸发量',\n",
    "                     yaxis3=Faker.days_values,yaxis3_label='平均气温',\n",
    "                     y_axis_dw1='ml',\n",
    "                     y_axis_dw2='℃')\n",
    "c.render()"
   ]
  }
 ],
 "metadata": {
  "kernelspec": {
   "display_name": "Python 3",
   "language": "python",
   "name": "python3"
  },
  "language_info": {
   "codemirror_mode": {
    "name": "ipython",
    "version": 3
   },
   "file_extension": ".py",
   "mimetype": "text/x-python",
   "name": "python",
   "nbconvert_exporter": "python",
   "pygments_lexer": "ipython3",
   "version": "3.6.5"
  }
 },
 "nbformat": 4,
 "nbformat_minor": 2
}
